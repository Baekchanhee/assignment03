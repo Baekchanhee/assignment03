{
 "cells": [
  {
   "cell_type": "markdown",
   "metadata": {},
   "source": [
    "# Programming Assignment: k-means algorithm\n",
    "## Name : 백찬희\n",
    "## Student ID : 20142503\n",
    "## Github : https://github.com/Baekchanhee/assignment03.git"
   ]
  },
  {
   "cell_type": "markdown",
   "metadata": {},
   "source": [
    "# 필요한 패키지들 추가하기"
   ]
  },
  {
   "cell_type": "code",
   "execution_count": 1,
   "metadata": {},
   "outputs": [],
   "source": [
    "import pandas as pd\n",
    "import numpy as np #데이터 처리를 위한 모듈\n",
    "import matplotlib.pyplot as plt #데이터 시각화를 위한 모듈"
   ]
  },
  {
   "cell_type": "markdown",
   "metadata": {},
   "source": [
    "# k number of random point clusters 생성하는 함수"
   ]
  },
  {
   "cell_type": "code",
   "execution_count": 2,
   "metadata": {},
   "outputs": [],
   "source": [
    "# k = number of clusters , nop = number of points \n",
    "def generatePointCluster(k, nop): \n",
    "    \n",
    "    df = pd.DataFrame(columns=('x','y')) # column x,y인 dataframe 생성 (x,y)     \n",
    "    \n",
    "    ## for loop \n",
    "    for i in range(0, k):                # k개 random point cluster 생성\n",
    "        \n",
    "        if i != k - 1:                    # 1 ~ k -1 번째 cluster 이면\n",
    "            points = np.random.rand(nop // k, 2) # nop / k개 의 [0,1) random point 생성  \n",
    "            \n",
    "        else :                           # k 번째 cluster 이면\n",
    "                                         # nop / k 했을 때의 나머지도 더한다\n",
    "            points = np.random.rand(nop // k + nop %  k, 2)                                                            \n",
    "        \n",
    "        mean = points.mean(axis=0)                        # [x_mean, y_mean] 구하기\n",
    "        points = points - mean                            # demean \n",
    "        points = points * 100                             # * 100\n",
    "        # -100 ~ 100 사이의 random한 center             \n",
    "        center = np.random.randint(-100, 101, size=(1, 1))\n",
    "        points = points + center                          # center 쪽으로 이동시키기\n",
    "        \n",
    "        tempdf = pd.DataFrame(points, columns=('x','y'))  # dataframe에 추가\n",
    "        df = df.append(tempdf)\n",
    "        \n",
    "    ## initialize random label\n",
    "    random_label = np.random.randint(k, size=(nop, 1)) # 0부터 k-1까지 random label\n",
    "    df['label'] = random_label\n",
    "   \n",
    "    ## initialize index \n",
    "    df.index = np.arange(nop)\n",
    "        \n",
    "    return df    \n",
    "    "
   ]
  },
  {
   "cell_type": "markdown",
   "metadata": {},
   "source": [
    "# *generatePointCluster 함수 구체적으로 살펴보기 ($k = 3, nop = 30$ 이라 가정)*"
   ]
  },
  {
   "cell_type": "markdown",
   "metadata": {},
   "source": [
    "### *0에서 1사이 $x,y$ random point 생성*"
   ]
  },
  {
   "cell_type": "code",
   "execution_count": 21,
   "metadata": {},
   "outputs": [],
   "source": [
    "points = np.random.rand(10, 2) # nop / k 개의 [0,1) random point 생성"
   ]
  },
  {
   "cell_type": "code",
   "execution_count": 22,
   "metadata": {},
   "outputs": [
    {
     "data": {
      "image/png": "[encoded data removed]",
      "text/plain": [
       "<Figure size 432x288 with 1 Axes>"
      ]
     },
     "metadata": {},
     "output_type": "display_data"
    }
   ],
   "source": [
    "plt.scatter(points[:,0], points[:,1], color='k')      \n",
    "plt.xlim(-2, 2)\n",
    "plt.ylim(-2, 2)\n",
    "plt.xlabel('x')\n",
    "plt.ylabel('y')\n",
    "plt.show()"
   ]
  },
  {
   "cell_type": "markdown",
   "metadata": {},
   "source": [
    "### *$x$평균, $y$평균 구하기*"
   ]
  },
  {
   "cell_type": "code",
   "execution_count": 23,
   "metadata": {},
   "outputs": [
    {
     "data": {
      "text/plain": [
       "array([0.59057363, 0.46003847])"
      ]
     },
     "execution_count": 23,
     "metadata": {},
     "output_type": "execute_result"
    }
   ],
   "source": [
    "mean = points.mean(axis=0) # [x_mean, y_mean] 구하기\n",
    "mean"
   ]
  },
  {
   "cell_type": "code",
   "execution_count": 24,
   "metadata": {},
   "outputs": [
    {
     "data": {
      "image/png": "[encoded data removed]",
      "text/plain": [
       "<Figure size 432x288 with 1 Axes>"
      ]
     },
     "metadata": {},
     "output_type": "display_data"
    }
   ],
   "source": [
    "plt.scatter(points[:,0], points[:,1], color='k', s=20)      \n",
    "plt.xlim(-2, 2)\n",
    "plt.ylim(-2, 2)\n",
    "plt.scatter(*mean, color='red')\n",
    "plt.xlabel('x')\n",
    "plt.ylabel('y')\n",
    "plt.show()"
   ]
  },
  {
   "cell_type": "markdown",
   "metadata": {},
   "source": [
    "### *demean*  (demean한 점들의 평균은 0이 된다)"
   ]
  },
  {
   "cell_type": "code",
   "execution_count": 25,
   "metadata": {},
   "outputs": [
    {
     "data": {
      "text/plain": [
       "array([-4.44089210e-17, -3.33066907e-17])"
      ]
     },
     "execution_count": 25,
     "metadata": {},
     "output_type": "execute_result"
    }
   ],
   "source": [
    "points = points - mean # demean\n",
    "points.mean(axis=0)"
   ]
  },
  {
   "cell_type": "code",
   "execution_count": 26,
   "metadata": {},
   "outputs": [
    {
     "data": {
      "image/png": "[encoded data removed]",
      "text/plain": [
       "<Figure size 432x288 with 1 Axes>"
      ]
     },
     "metadata": {},
     "output_type": "display_data"
    }
   ],
   "source": [
    "plt.scatter(points[:,0], points[:,1], color='k')      \n",
    "plt.xlim(-2, 2)\n",
    "plt.ylim(-2, 2)\n",
    "plt.xlabel('x')\n",
    "plt.ylabel('y')\n",
    "plt.show()"
   ]
  },
  {
   "cell_type": "markdown",
   "metadata": {},
   "source": [
    "### *demean한 점들에 100곱하기  (빨간색 : 100곱하기 이전)*"
   ]
  },
  {
   "cell_type": "code",
   "execution_count": 27,
   "metadata": {},
   "outputs": [],
   "source": [
    "beforepoints = points   # to show before * 100\n",
    "points = points * 100   # * 100"
   ]
  },
  {
   "cell_type": "code",
   "execution_count": 28,
   "metadata": {},
   "outputs": [
    {
     "data": {
      "image/png": "[encoded data removed]",
      "text/plain": [
       "<Figure size 432x288 with 1 Axes>"
      ]
     },
     "metadata": {},
     "output_type": "display_data"
    }
   ],
   "source": [
    "plt.scatter(points[:,0], points[:,1], color='k')  \n",
    "plt.scatter(beforepoints[:,0], beforepoints[:,1], color='red')    \n",
    "plt.xlim(-100, 100)    \n",
    "plt.ylim(-100, 100)\n",
    "plt.xlabel('x')\n",
    "plt.ylabel('y')\n",
    "plt.show()"
   ]
  },
  {
   "cell_type": "markdown",
   "metadata": {},
   "source": [
    "### *center를 임의로 정해 이동시키기 (빨간색 : 이동전)*"
   ]
  },
  {
   "cell_type": "code",
   "execution_count": 29,
   "metadata": {},
   "outputs": [],
   "source": [
    "beforepoints = points # to show before * 100\n",
    "center = np.random.randint(-100, 101, size=(1, 1))# -100 ~ 100 사이의 random한 center \n",
    "points = points + center                          # center 쪽으로 이동시키기"
   ]
  },
  {
   "cell_type": "code",
   "execution_count": 30,
   "metadata": {},
   "outputs": [
    {
     "data": {
      "image/png": "[encoded data removed]",
      "text/plain": [
       "<Figure size 432x288 with 1 Axes>"
      ]
     },
     "metadata": {},
     "output_type": "display_data"
    }
   ],
   "source": [
    "plt.scatter(points[:,0], points[:,1], color='k')  \n",
    "plt.scatter(beforepoints[:,0], beforepoints[:,1], color='red')    \n",
    "plt.xlim(-200, 200)    \n",
    "plt.ylim(-200, 200)\n",
    "plt.xlabel('x')\n",
    "plt.ylabel('y')\n",
    "plt.show()"
   ]
  },
  {
   "cell_type": "markdown",
   "metadata": {},
   "source": [
    "### *생성한 점들을 dataframe에 추가하기*"
   ]
  },
  {
   "cell_type": "code",
   "execution_count": 31,
   "metadata": {},
   "outputs": [
    {
     "data": {
      "text/html": [
       "<div>\n",
       "<style scoped>\n",
       "    .dataframe tbody tr th:only-of-type {\n",
       "        vertical-align: middle;\n",
       "    }\n",
       "\n",
       "    .dataframe tbody tr th {\n",
       "        vertical-align: top;\n",
       "    }\n",
       "\n",
       "    .dataframe thead th {\n",
       "        text-align: right;\n",
       "    }\n",
       "</style>\n",
       "<table border=\"1\" class=\"dataframe\">\n",
       "  <thead>\n",
       "    <tr style=\"text-align: right;\">\n",
       "      <th></th>\n",
       "      <th>x</th>\n",
       "      <th>y</th>\n",
       "    </tr>\n",
       "  </thead>\n",
       "  <tbody>\n",
       "    <tr>\n",
       "      <th>0</th>\n",
       "      <td>42.628731</td>\n",
       "      <td>131.513175</td>\n",
       "    </tr>\n",
       "    <tr>\n",
       "      <th>1</th>\n",
       "      <td>117.187212</td>\n",
       "      <td>140.453184</td>\n",
       "    </tr>\n",
       "    <tr>\n",
       "      <th>2</th>\n",
       "      <td>129.334800</td>\n",
       "      <td>65.880393</td>\n",
       "    </tr>\n",
       "    <tr>\n",
       "      <th>3</th>\n",
       "      <td>112.009324</td>\n",
       "      <td>104.750898</td>\n",
       "    </tr>\n",
       "    <tr>\n",
       "      <th>4</th>\n",
       "      <td>52.733140</td>\n",
       "      <td>66.734883</td>\n",
       "    </tr>\n",
       "    <tr>\n",
       "      <th>5</th>\n",
       "      <td>54.147037</td>\n",
       "      <td>65.426784</td>\n",
       "    </tr>\n",
       "    <tr>\n",
       "      <th>6</th>\n",
       "      <td>80.706250</td>\n",
       "      <td>105.038210</td>\n",
       "    </tr>\n",
       "    <tr>\n",
       "      <th>7</th>\n",
       "      <td>111.066087</td>\n",
       "      <td>99.296137</td>\n",
       "    </tr>\n",
       "    <tr>\n",
       "      <th>8</th>\n",
       "      <td>125.519270</td>\n",
       "      <td>76.798323</td>\n",
       "    </tr>\n",
       "    <tr>\n",
       "      <th>9</th>\n",
       "      <td>134.668150</td>\n",
       "      <td>104.108014</td>\n",
       "    </tr>\n",
       "  </tbody>\n",
       "</table>\n",
       "</div>"
      ],
      "text/plain": [
       "            x           y\n",
       "0   42.628731  131.513175\n",
       "1  117.187212  140.453184\n",
       "2  129.334800   65.880393\n",
       "3  112.009324  104.750898\n",
       "4   52.733140   66.734883\n",
       "5   54.147037   65.426784\n",
       "6   80.706250  105.038210\n",
       "7  111.066087   99.296137\n",
       "8  125.519270   76.798323\n",
       "9  134.668150  104.108014"
      ]
     },
     "execution_count": 31,
     "metadata": {},
     "output_type": "execute_result"
    }
   ],
   "source": [
    "df = pd.DataFrame(columns=('x','y'))        # column x,y인 dataframe 생성 (x,y) \n",
    "\n",
    "tempdf = pd.DataFrame(points, columns=('x','y'))  # dataframe에 추가\n",
    "df = df.append(tempdf)\n",
    "df"
   ]
  },
  {
   "cell_type": "markdown",
   "metadata": {},
   "source": [
    "## *위 과정을 k번 반복해서 k개의 random number cluster를 생성한다. *"
   ]
  },
  {
   "cell_type": "markdown",
   "metadata": {},
   "source": [
    "### *완성된 dataframe에 임의로 label을 초기화 한다. (0부터 k-1까지) *"
   ]
  },
  {
   "cell_type": "code",
   "execution_count": 32,
   "metadata": {},
   "outputs": [
    {
     "data": {
      "text/html": [
       "<div>\n",
       "<style scoped>\n",
       "    .dataframe tbody tr th:only-of-type {\n",
       "        vertical-align: middle;\n",
       "    }\n",
       "\n",
       "    .dataframe tbody tr th {\n",
       "        vertical-align: top;\n",
       "    }\n",
       "\n",
       "    .dataframe thead th {\n",
       "        text-align: right;\n",
       "    }\n",
       "</style>\n",
       "<table border=\"1\" class=\"dataframe\">\n",
       "  <thead>\n",
       "    <tr style=\"text-align: right;\">\n",
       "      <th></th>\n",
       "      <th>x</th>\n",
       "      <th>y</th>\n",
       "      <th>label</th>\n",
       "    </tr>\n",
       "  </thead>\n",
       "  <tbody>\n",
       "    <tr>\n",
       "      <th>0</th>\n",
       "      <td>42.628731</td>\n",
       "      <td>131.513175</td>\n",
       "      <td>1</td>\n",
       "    </tr>\n",
       "    <tr>\n",
       "      <th>1</th>\n",
       "      <td>117.187212</td>\n",
       "      <td>140.453184</td>\n",
       "      <td>1</td>\n",
       "    </tr>\n",
       "    <tr>\n",
       "      <th>2</th>\n",
       "      <td>129.334800</td>\n",
       "      <td>65.880393</td>\n",
       "      <td>1</td>\n",
       "    </tr>\n",
       "    <tr>\n",
       "      <th>3</th>\n",
       "      <td>112.009324</td>\n",
       "      <td>104.750898</td>\n",
       "      <td>0</td>\n",
       "    </tr>\n",
       "    <tr>\n",
       "      <th>4</th>\n",
       "      <td>52.733140</td>\n",
       "      <td>66.734883</td>\n",
       "      <td>2</td>\n",
       "    </tr>\n",
       "    <tr>\n",
       "      <th>5</th>\n",
       "      <td>54.147037</td>\n",
       "      <td>65.426784</td>\n",
       "      <td>0</td>\n",
       "    </tr>\n",
       "    <tr>\n",
       "      <th>6</th>\n",
       "      <td>80.706250</td>\n",
       "      <td>105.038210</td>\n",
       "      <td>2</td>\n",
       "    </tr>\n",
       "    <tr>\n",
       "      <th>7</th>\n",
       "      <td>111.066087</td>\n",
       "      <td>99.296137</td>\n",
       "      <td>2</td>\n",
       "    </tr>\n",
       "    <tr>\n",
       "      <th>8</th>\n",
       "      <td>125.519270</td>\n",
       "      <td>76.798323</td>\n",
       "      <td>0</td>\n",
       "    </tr>\n",
       "    <tr>\n",
       "      <th>9</th>\n",
       "      <td>134.668150</td>\n",
       "      <td>104.108014</td>\n",
       "      <td>1</td>\n",
       "    </tr>\n",
       "  </tbody>\n",
       "</table>\n",
       "</div>"
      ],
      "text/plain": [
       "            x           y  label\n",
       "0   42.628731  131.513175      1\n",
       "1  117.187212  140.453184      1\n",
       "2  129.334800   65.880393      1\n",
       "3  112.009324  104.750898      0\n",
       "4   52.733140   66.734883      2\n",
       "5   54.147037   65.426784      0\n",
       "6   80.706250  105.038210      2\n",
       "7  111.066087   99.296137      2\n",
       "8  125.519270   76.798323      0\n",
       "9  134.668150  104.108014      1"
      ]
     },
     "execution_count": 32,
     "metadata": {},
     "output_type": "execute_result"
    }
   ],
   "source": [
    "random_label = np.random.randint(3, size=(10, 1)) # 0부터 k-1까지 random label\n",
    "df['label'] = random_label\n",
    "df"
   ]
  },
  {
   "cell_type": "markdown",
   "metadata": {},
   "source": [
    "## *함수가 완성된 dataframe을 return 하고 종료된다 // generatePointCluster(k, nop)*"
   ]
  },
  {
   "cell_type": "markdown",
   "metadata": {},
   "source": [
    "# input data : cluster 3개 random point 100개 생성  \n",
    "### (*함수 구체적으로 설명하는 부분(italic체)은 k = 3 nop = 30* / 일반적인 흐름에서는 k = 3 nop = 100 이라 가정)"
   ]
  },
  {
   "cell_type": "code",
   "execution_count": 12,
   "metadata": {},
   "outputs": [],
   "source": [
    "data = generatePointCluster(3, 100).copy() # k = 3 nop = 100"
   ]
  },
  {
   "cell_type": "code",
   "execution_count": 13,
   "metadata": {},
   "outputs": [
    {
     "data": {
      "image/png": "[encoded data removed]",
      "text/plain": [
       "<Figure size 432x288 with 1 Axes>"
      ]
     },
     "metadata": {},
     "output_type": "display_data"
    }
   ],
   "source": [
    "plt.scatter(data['x'], data['y'], color='k')  \n",
    "plt.xlim(-200, 200)    \n",
    "plt.ylim(-200, 200)\n",
    "plt.xlabel('x')\n",
    "plt.ylabel('y')\n",
    "plt.show()"
   ]
  },
  {
   "cell_type": "markdown",
   "metadata": {},
   "source": [
    "# centroid를 계산하는 함수"
   ]
  },
  {
   "cell_type": "code",
   "execution_count": 9,
   "metadata": {},
   "outputs": [],
   "source": [
    "def computeCentroid(k, df):    # k : number of clusters // df : dataframe\n",
    "   \n",
    "    centroids = []             # list\n",
    "    \n",
    "    for i in range(k):        \n",
    "        i_labeled = df[df['label'] == i]   # label이 i인 dataframe만 선택\n",
    "        x_mean = np.mean(i_labeled['x'])   # 'x' column 들의 평균\n",
    "        y_mean = np.mean(i_labeled['y'])   # 'y' column 들의 평균\n",
    "        centroids.append([x_mean, y_mean]) # centroids list에 추가\n",
    "    \n",
    "    return centroids\n",
    "    "
   ]
  },
  {
   "cell_type": "markdown",
   "metadata": {},
   "source": [
    "# *computeCentroid 함수 구체적으로 살펴보기 ($k = 3$ 이라 가정)*"
   ]
  },
  {
   "cell_type": "markdown",
   "metadata": {},
   "source": [
    "### *label이 i인 dataframe만 선택 ($i = 1$로 가정)*"
   ]
  },
  {
   "cell_type": "code",
   "execution_count": 33,
   "metadata": {},
   "outputs": [
    {
     "data": {
      "text/html": [
       "<div>\n",
       "<style scoped>\n",
       "    .dataframe tbody tr th:only-of-type {\n",
       "        vertical-align: middle;\n",
       "    }\n",
       "\n",
       "    .dataframe tbody tr th {\n",
       "        vertical-align: top;\n",
       "    }\n",
       "\n",
       "    .dataframe thead th {\n",
       "        text-align: right;\n",
       "    }\n",
       "</style>\n",
       "<table border=\"1\" class=\"dataframe\">\n",
       "  <thead>\n",
       "    <tr style=\"text-align: right;\">\n",
       "      <th></th>\n",
       "      <th>x</th>\n",
       "      <th>y</th>\n",
       "      <th>label</th>\n",
       "    </tr>\n",
       "  </thead>\n",
       "  <tbody>\n",
       "    <tr>\n",
       "      <th>0</th>\n",
       "      <td>42.628731</td>\n",
       "      <td>131.513175</td>\n",
       "      <td>1</td>\n",
       "    </tr>\n",
       "    <tr>\n",
       "      <th>1</th>\n",
       "      <td>117.187212</td>\n",
       "      <td>140.453184</td>\n",
       "      <td>1</td>\n",
       "    </tr>\n",
       "    <tr>\n",
       "      <th>2</th>\n",
       "      <td>129.334800</td>\n",
       "      <td>65.880393</td>\n",
       "      <td>1</td>\n",
       "    </tr>\n",
       "    <tr>\n",
       "      <th>9</th>\n",
       "      <td>134.668150</td>\n",
       "      <td>104.108014</td>\n",
       "      <td>1</td>\n",
       "    </tr>\n",
       "  </tbody>\n",
       "</table>\n",
       "</div>"
      ],
      "text/plain": [
       "            x           y  label\n",
       "0   42.628731  131.513175      1\n",
       "1  117.187212  140.453184      1\n",
       "2  129.334800   65.880393      1\n",
       "9  134.668150  104.108014      1"
      ]
     },
     "execution_count": 33,
     "metadata": {},
     "output_type": "execute_result"
    }
   ],
   "source": [
    "i_labeled = df[df['label'] == 1]   # label이 i인 dataframe만 선택\n",
    "i_labeled"
   ]
  },
  {
   "cell_type": "markdown",
   "metadata": {},
   "source": [
    "### *label이 i인 점들의 x값 평균*"
   ]
  },
  {
   "cell_type": "code",
   "execution_count": 34,
   "metadata": {},
   "outputs": [
    {
     "data": {
      "text/plain": [
       "105.95472319298491"
      ]
     },
     "execution_count": 34,
     "metadata": {},
     "output_type": "execute_result"
    }
   ],
   "source": [
    "x_mean = np.mean(i_labeled['x'])   # 'x' column 들의 평균\n",
    "x_mean"
   ]
  },
  {
   "cell_type": "markdown",
   "metadata": {},
   "source": [
    "### *label이 i인 점들의 y값 평균*"
   ]
  },
  {
   "cell_type": "code",
   "execution_count": 35,
   "metadata": {},
   "outputs": [
    {
     "data": {
      "text/plain": [
       "110.48869144352462"
      ]
     },
     "execution_count": 35,
     "metadata": {},
     "output_type": "execute_result"
    }
   ],
   "source": [
    "y_mean = np.mean(i_labeled['y'])   # 'y' column 들의 평균\n",
    "y_mean"
   ]
  },
  {
   "cell_type": "markdown",
   "metadata": {},
   "source": [
    "### *centroids list에 추가*"
   ]
  },
  {
   "cell_type": "code",
   "execution_count": 36,
   "metadata": {},
   "outputs": [
    {
     "data": {
      "text/plain": [
       "[[105.95472319298491, 110.48869144352462]]"
      ]
     },
     "execution_count": 36,
     "metadata": {},
     "output_type": "execute_result"
    }
   ],
   "source": [
    "centroids = []\n",
    "centroids.append([x_mean, y_mean]) # centroids list에 추가\n",
    "centroids"
   ]
  },
  {
   "cell_type": "markdown",
   "metadata": {},
   "source": [
    "## *위 과정을 k번 반복하여 k개의 centroid를 갖는 list를 return 한다 // computeCentroid(k, df)*"
   ]
  },
  {
   "cell_type": "markdown",
   "metadata": {},
   "source": [
    "# initial centroid를 계산 "
   ]
  },
  {
   "cell_type": "code",
   "execution_count": 14,
   "metadata": {},
   "outputs": [
    {
     "data": {
      "text/plain": [
       "[[-40.35367914389768, -40.20552321578926],\n",
       " [-38.35942378733378, -43.518480178738606],\n",
       " [-51.07949305236008, -43.366701165453755]]"
      ]
     },
     "execution_count": 14,
     "metadata": {},
     "output_type": "execute_result"
    }
   ],
   "source": [
    "recent_centroids = computeCentroid(3, data)\n",
    "recent_centroids"
   ]
  },
  {
   "cell_type": "markdown",
   "metadata": {},
   "source": [
    "# initial centroid (red, blue, green 으로 표현)"
   ]
  },
  {
   "cell_type": "code",
   "execution_count": 15,
   "metadata": {},
   "outputs": [
    {
     "data": {
      "image/png": "[encoded data removed]",
      "text/plain": [
       "<Figure size 432x288 with 1 Axes>"
      ]
     },
     "metadata": {},
     "output_type": "display_data"
    }
   ],
   "source": [
    "plt.scatter(data['x'], data['y'], color='k', s = 10) \n",
    "\n",
    "color = ['r', 'g', 'b'] # red green blue\n",
    "for i in range(3):      # 3개의 centroid를 다른 색깔로 표현 위해\n",
    "    plt.scatter(*recent_centroids[i], color = color[i])\n",
    "    \n",
    "plt.xlim(-200, 200)    \n",
    "plt.ylim(-200, 200)\n",
    "plt.xlabel('x')\n",
    "plt.ylabel('y')\n",
    "plt.show()"
   ]
  },
  {
   "cell_type": "markdown",
   "metadata": {},
   "source": [
    "# label을 할당하는 함수"
   ]
  },
  {
   "cell_type": "code",
   "execution_count": 16,
   "metadata": {},
   "outputs": [],
   "source": [
    " # k: number of clusters // nop: number of points// df: dataframe // centroids: recent centroids\n",
    "def assignLabel(k, nop, df, centroids):\n",
    "        for i in range(nop):   # point 갯수만큼 반복\n",
    "            x = df.iloc[i,0]   # x \n",
    "            y = df.iloc[i,1]   # y       \n",
    "            \n",
    "            # 가장 가까운 cluster를 0번째 cluster로 가정하고 distance까지 구함\n",
    "            closest = 0       \n",
    "            closest_distance = ((x - centroids[0][0]) ** 2 \n",
    "                                + (y - centroids[0][1]) ** 2)           \n",
    "            \n",
    "            for j in range(1, k): # cluster 1 ~ cluster k -1 까지 반복\n",
    "                current_distance = ((x - centroids[j][0]) ** 2 \n",
    "                                    + (y - centroids[j][1]) ** 2)\n",
    "                if closest_distance > current_distance :\n",
    "                    closest = j\n",
    "                    closest_distance = current_distance\n",
    "                    \n",
    "            # 가장 가까운 cluster number를 label로 할당\n",
    "            df.iloc[i,2] = closest\n",
    "            \n",
    "        return df                      \n",
    "             "
   ]
  },
  {
   "cell_type": "markdown",
   "metadata": {},
   "source": [
    "# initial label 할당 "
   ]
  },
  {
   "cell_type": "code",
   "execution_count": 17,
   "metadata": {},
   "outputs": [],
   "source": [
    "data = assignLabel(3, 100, data, recent_centroids)"
   ]
  },
  {
   "cell_type": "markdown",
   "metadata": {},
   "source": [
    "# initial label"
   ]
  },
  {
   "cell_type": "code",
   "execution_count": 18,
   "metadata": {
    "scrolled": true
   },
   "outputs": [
    {
     "data": {
      "image/png": "[encoded data removed]",
      "text/plain": [
       "<Figure size 432x288 with 1 Axes>"
      ]
     },
     "metadata": {},
     "output_type": "display_data"
    }
   ],
   "source": [
    "color = ['r', 'g', 'b'] # red green blue\n",
    "\n",
    "for i in range(3):\n",
    "    plt.scatter(data[data['label'] == i]['x'], data[data['label'] == i]['y'], \n",
    "                color = color[i], alpha = 0.5, s = 12) \n",
    "\n",
    "\n",
    "for i in range(3):  # 3개의 centroid를 다른 색깔로 표현 위해\n",
    "    plt.scatter(*recent_centroids[i], color = color[i])\n",
    "    \n",
    "plt.xlim(-200, 200)    \n",
    "plt.ylim(-200, 200)\n",
    "plt.xlabel('x')\n",
    "plt.ylabel('y')\n",
    "plt.show()"
   ]
  },
  {
   "cell_type": "markdown",
   "metadata": {},
   "source": [
    "# *assignLabel 함수 구체적으로 살펴보기 *"
   ]
  },
  {
   "cell_type": "markdown",
   "metadata": {},
   "source": [
    "### *point 개수만큼 반복하여 x좌표, y좌표 값을 가져온다 *"
   ]
  },
  {
   "cell_type": "code",
   "execution_count": 37,
   "metadata": {},
   "outputs": [
    {
     "name": "stdout",
     "output_type": "stream",
     "text": [
      "[42.628731443950386, 131.51317508026258]\n",
      "[117.18721181886504, 140.45318408218634]\n",
      "[129.33479993912965, 65.88039293807265]\n",
      "[112.00932370561732, 104.75089766733623]\n",
      "[52.73313971999475, 66.73488306996171]\n",
      "[54.147036548674215, 65.42678386035765]\n",
      "[80.70625030054877, 105.0382100097135]\n",
      "[111.06608715851763, 99.29613655876712]\n",
      "[125.51926979470761, 76.79832305976532]\n",
      "[134.66814956999457, 104.10801367357686]\n"
     ]
    }
   ],
   "source": [
    "for i in range(10):            # point 갯수만큼 반복\n",
    "            x = df.iloc[i,0]   # x \n",
    "            y = df.iloc[i,1]   # y\n",
    "            print([x,y])            \n",
    "            "
   ]
  },
  {
   "cell_type": "markdown",
   "metadata": {},
   "source": [
    "### *점들간의 Distance 를 다음과 같이 정의*"
   ]
  },
  {
   "cell_type": "markdown",
   "metadata": {},
   "source": [
    "## $D = (x_{1} - x_{2})^2 + (y_{1} - y_{2})^2$"
   ]
  },
  {
   "cell_type": "markdown",
   "metadata": {},
   "source": [
    "### *모든 centroid와의 거리를 계산해 가장 가까운 centroid에 속하도록 label을 변경*"
   ]
  },
  {
   "cell_type": "code",
   "execution_count": 38,
   "metadata": {},
   "outputs": [],
   "source": [
    "            # 가장 가까운 cluster를 0번째 cluster로 가정하고 distance까지 구함\n",
    "            closest = 0       \n",
    "            closest_distance = ((x - centroids[0][0]) ** 2 + \n",
    "                                (y - centroids[0][1]) ** 2)            \n",
    "            \n",
    "            #예시를 위해 k = 1이라고 가정함\n",
    "            for j in range(1, 1): # cluster 1 ~ cluster k -1 까지 반복\n",
    "                current_distance = ((x - centroids[j][0]) ** 2 + \n",
    "                                    (y - centroids[j][1]) ** 2)\n",
    "                if closest_distance > current_distance :\n",
    "                    closest = j\n",
    "                    closest_distance = current_distance\n",
    "                    \n",
    "            # 가장 가까운 cluster number를 label로 할당\n",
    "            df.iloc[i,2] = closest"
   ]
  },
  {
   "cell_type": "markdown",
   "metadata": {},
   "source": [
    "### *위 과정을 모든 point 개수만큼 반복하고 변경된 dataframe을 return한다. // assignLabel(k, nop, df, centroids)*"
   ]
  },
  {
   "cell_type": "markdown",
   "metadata": {},
   "source": [
    "# energy를 계산하는 함수 "
   ]
  },
  {
   "cell_type": "code",
   "execution_count": 19,
   "metadata": {},
   "outputs": [],
   "source": [
    "def computeEnergy(df, nop, centroids):\n",
    "    \n",
    "    energy = 0  # energy\n",
    "    \n",
    "    for i in range(nop):         # point 갯수만큼 반복\n",
    "            x = df.iloc[i,0]     # x \n",
    "            y = df.iloc[i,1]     # y \n",
    "            label = df.iloc[i,2] # label\n",
    "            # 각 point가 속하는 centroid와의 거리 총합\n",
    "            energy += ((x - centroids[label][0]) ** 2 + \n",
    "                       (y - centroids[label][1]) ** 2) \n",
    "            \n",
    "    energy /= nop  # 거리 총합에서 평균이 energy\n",
    "    \n",
    "    return energy"
   ]
  },
  {
   "cell_type": "markdown",
   "metadata": {},
   "source": [
    "### *Energy를 다음과 같이 정의*"
   ]
  },
  {
   "cell_type": "markdown",
   "metadata": {},
   "source": [
    "## $E = \\frac{1}{n}\\sum\\limits_{i=1}^n$ $(x_{i} - c_{k_{i}})^2$      $(k_{i}$ is the label of $x_{i})$"
   ]
  },
  {
   "cell_type": "markdown",
   "metadata": {},
   "source": [
    "# centroid 가 변하지 않을 때까지 label 할당과 centroid 변경"
   ]
  },
  {
   "cell_type": "code",
   "execution_count": 20,
   "metadata": {
    "scrolled": false
   },
   "outputs": [
    {
     "data": {
      "image/png": "[encoded data removed]",
      "text/plain": [
       "<Figure size 432x288 with 1 Axes>"
      ]
     },
     "metadata": {},
     "output_type": "display_data"
    },
    {
     "name": "stdout",
     "output_type": "stream",
     "text": [
      "Energy: 1693.125844\n"
     ]
    },
    {
     "data": {
      "image/png": "[encoded data removed]",
      "text/plain": [
       "<Figure size 432x288 with 1 Axes>"
      ]
     },
     "metadata": {},
     "output_type": "display_data"
    },
    {
     "name": "stdout",
     "output_type": "stream",
     "text": [
      "Energy: 1469.392769\n"
     ]
    },
    {
     "data": {
      "image/png": "[encoded data removed]",
      "text/plain": [
       "<Figure size 432x288 with 1 Axes>"
      ]
     },
     "metadata": {},
     "output_type": "display_data"
    },
    {
     "name": "stdout",
     "output_type": "stream",
     "text": [
      "Energy: 1441.696272\n"
     ]
    },
    {
     "data": {
      "image/png": "[encoded data removed]",
      "text/plain": [
       "<Figure size 432x288 with 1 Axes>"
      ]
     },
     "metadata": {},
     "output_type": "display_data"
    },
    {
     "name": "stdout",
     "output_type": "stream",
     "text": [
      "Energy: 1428.244383\n"
     ]
    },
    {
     "data": {
      "image/png": "[encoded data removed]",
      "text/plain": [
       "<Figure size 432x288 with 1 Axes>"
      ]
     },
     "metadata": {},
     "output_type": "display_data"
    },
    {
     "name": "stdout",
     "output_type": "stream",
     "text": [
      "Energy: 1392.674772\n"
     ]
    },
    {
     "data": {
      "image/png": "[encoded data removed]",
      "text/plain": [
       "<Figure size 432x288 with 1 Axes>"
      ]
     },
     "metadata": {},
     "output_type": "display_data"
    },
    {
     "name": "stdout",
     "output_type": "stream",
     "text": [
      "Energy: 1364.022599\n"
     ]
    },
    {
     "data": {
      "image/png": "[encoded data removed]",
      "text/plain": [
       "<Figure size 432x288 with 1 Axes>"
      ]
     },
     "metadata": {},
     "output_type": "display_data"
    },
    {
     "name": "stdout",
     "output_type": "stream",
     "text": [
      "Energy: 1350.102177\n"
     ]
    },
    {
     "data": {
      "image/png": "[encoded data removed]",
      "text/plain": [
       "<Figure size 432x288 with 1 Axes>"
      ]
     },
     "metadata": {},
     "output_type": "display_data"
    },
    {
     "name": "stdout",
     "output_type": "stream",
     "text": [
      "Energy: 1337.299387\n"
     ]
    },
    {
     "data": {
      "image/png": "[encoded data removed]",
      "text/plain": [
       "<Figure size 432x288 with 1 Axes>"
      ]
     },
     "metadata": {},
     "output_type": "display_data"
    },
    {
     "name": "stdout",
     "output_type": "stream",
     "text": [
      "Energy: 1315.534556\n"
     ]
    },
    {
     "data": {
      "image/png": "[encoded data removed]",
      "text/plain": [
       "<Figure size 432x288 with 1 Axes>"
      ]
     },
     "metadata": {},
     "output_type": "display_data"
    },
    {
     "name": "stdout",
     "output_type": "stream",
     "text": [
      "Energy: 1310.432163\n"
     ]
    },
    {
     "data": {
      "image/png": "[encoded data removed]",
      "text/plain": [
       "<Figure size 432x288 with 1 Axes>"
      ]
     },
     "metadata": {},
     "output_type": "display_data"
    },
    {
     "name": "stdout",
     "output_type": "stream",
     "text": [
      "Energy: 1304.753104\n"
     ]
    },
    {
     "data": {
      "image/png": "[encoded data removed]",
      "text/plain": [
       "<Figure size 432x288 with 1 Axes>"
      ]
     },
     "metadata": {},
     "output_type": "display_data"
    },
    {
     "name": "stdout",
     "output_type": "stream",
     "text": [
      "Energy: 1302.892763\n"
     ]
    },
    {
     "data": {
      "image/png": "[encoded data removed]",
      "text/plain": [
       "<Figure size 432x288 with 1 Axes>"
      ]
     },
     "metadata": {},
     "output_type": "display_data"
    },
    {
     "name": "stdout",
     "output_type": "stream",
     "text": [
      "Energy: 1300.601754\n"
     ]
    },
    {
     "data": {
      "image/png": "[encoded data removed]",
      "text/plain": [
       "<Figure size 432x288 with 1 Axes>"
      ]
     },
     "metadata": {},
     "output_type": "display_data"
    },
    {
     "name": "stdout",
     "output_type": "stream",
     "text": [
      "Energy: 1300.601754\n"
     ]
    }
   ],
   "source": [
    "while True:\n",
    "    old_centroids = recent_centroids # old centroid를 저장\n",
    "    recent_centroids = computeCentroid(3, data)\n",
    "    data = assignLabel(3, 100, data, recent_centroids)\n",
    "    \n",
    "    for i in range(3):\n",
    "        plt.scatter(data[data['label'] == i]['x'], data[data['label'] == i]['y'],\n",
    "                    color = color[i], alpha = 0.5, s = 12) \n",
    "\n",
    "    for i in range(3):      # 3개의 centroid를 다른 색깔로 표현 위해\n",
    "        plt.scatter(*recent_centroids[i], color = color[i])\n",
    "    \n",
    "    plt.xlim(-200, 200)    \n",
    "    plt.ylim(-200, 200)\n",
    "    plt.xlabel('x')\n",
    "    plt.ylabel('y')\n",
    "    plt.show()\n",
    "    \n",
    "    # energy  출력\n",
    "    print(\"Energy: %f\" % computeEnergy(data, 100, recent_centroids)) \n",
    "    # if converged\n",
    "    if old_centroids == recent_centroids:\n",
    "        break"
   ]
  },
  {
   "cell_type": "markdown",
   "metadata": {},
   "source": [
    "centroid에 변경이 없어서 종료   (converged)"
   ]
  },
  {
   "cell_type": "markdown",
   "metadata": {},
   "source": [
    "## Name : 백찬희\n",
    "## Student ID : 20142503\n",
    "## Github : https://github.com/Baekchanhee/assignment03.git"
   ]
  }
 ],
 "metadata": {
  "kernelspec": {
   "display_name": "Python 3",
   "language": "python",
   "name": "python3"
  },
  "language_info": {
   "codemirror_mode": {
    "name": "ipython",
    "version": 3
   },
   "file_extension": ".py",
   "mimetype": "text/x-python",
   "name": "python",
   "nbconvert_exporter": "python",
   "pygments_lexer": "ipython3",
   "version": "3.6.5"
  }
 },
 "nbformat": 4,
 "nbformat_minor": 2
}
